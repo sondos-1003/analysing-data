{
 "cells": [
  {
   "cell_type": "code",
   "execution_count": 13,
   "metadata": {},
   "outputs": [],
   "source": [
    "import numpy as np\n",
    "import pandas as pd\n",
    "import seaborn as sns\n",
    "import matplotlib.pyplot as plt"
   ]
  },
  {
   "cell_type": "code",
   "execution_count": 14,
   "metadata": {},
   "outputs": [],
   "source": [
    "pj= pd.read_csv(\"C:/Users/dell/Desktop/WhatsgoodlyData-10.csv\")"
   ]
  },
  {
   "cell_type": "code",
   "execution_count": 15,
   "metadata": {},
   "outputs": [
    {
     "data": {
      "text/html": [
       "<div>\n",
       "<style scoped>\n",
       "    .dataframe tbody tr th:only-of-type {\n",
       "        vertical-align: middle;\n",
       "    }\n",
       "\n",
       "    .dataframe tbody tr th {\n",
       "        vertical-align: top;\n",
       "    }\n",
       "\n",
       "    .dataframe thead th {\n",
       "        text-align: right;\n",
       "    }\n",
       "</style>\n",
       "<table border=\"1\" class=\"dataframe\">\n",
       "  <thead>\n",
       "    <tr style=\"text-align: right;\">\n",
       "      <th></th>\n",
       "      <th>Question</th>\n",
       "      <th>Segment Type</th>\n",
       "      <th>Segment Description</th>\n",
       "      <th>Answer</th>\n",
       "      <th>Count</th>\n",
       "      <th>Percentage</th>\n",
       "    </tr>\n",
       "  </thead>\n",
       "  <tbody>\n",
       "    <tr>\n",
       "      <th>0</th>\n",
       "      <td>You open ur phone and have a notif badge on in...</td>\n",
       "      <td>Mobile</td>\n",
       "      <td>Mobile respondents</td>\n",
       "      <td>Instagram</td>\n",
       "      <td>2559</td>\n",
       "      <td>0.273</td>\n",
       "    </tr>\n",
       "    <tr>\n",
       "      <th>1</th>\n",
       "      <td>You open ur phone and have a notif badge on in...</td>\n",
       "      <td>Mobile</td>\n",
       "      <td>Mobile respondents</td>\n",
       "      <td>Facebook</td>\n",
       "      <td>1182</td>\n",
       "      <td>0.126</td>\n",
       "    </tr>\n",
       "    <tr>\n",
       "      <th>2</th>\n",
       "      <td>You open ur phone and have a notif badge on in...</td>\n",
       "      <td>Mobile</td>\n",
       "      <td>Mobile respondents</td>\n",
       "      <td>Snapchat</td>\n",
       "      <td>5423</td>\n",
       "      <td>0.579</td>\n",
       "    </tr>\n",
       "    <tr>\n",
       "      <th>3</th>\n",
       "      <td>You open ur phone and have a notif badge on in...</td>\n",
       "      <td>Mobile</td>\n",
       "      <td>Mobile respondents</td>\n",
       "      <td>Linkedin</td>\n",
       "      <td>210</td>\n",
       "      <td>0.022</td>\n",
       "    </tr>\n",
       "    <tr>\n",
       "      <th>4</th>\n",
       "      <td>You open ur phone and have a notif badge on in...</td>\n",
       "      <td>Web</td>\n",
       "      <td>Web-based respondents</td>\n",
       "      <td>Instagram</td>\n",
       "      <td>30</td>\n",
       "      <td>0.256</td>\n",
       "    </tr>\n",
       "  </tbody>\n",
       "</table>\n",
       "</div>"
      ],
      "text/plain": [
       "                                            Question Segment Type  \\\n",
       "0  You open ur phone and have a notif badge on in...       Mobile   \n",
       "1  You open ur phone and have a notif badge on in...       Mobile   \n",
       "2  You open ur phone and have a notif badge on in...       Mobile   \n",
       "3  You open ur phone and have a notif badge on in...       Mobile   \n",
       "4  You open ur phone and have a notif badge on in...          Web   \n",
       "\n",
       "     Segment Description     Answer  Count  Percentage  \n",
       "0     Mobile respondents  Instagram   2559       0.273  \n",
       "1     Mobile respondents   Facebook   1182       0.126  \n",
       "2     Mobile respondents   Snapchat   5423       0.579  \n",
       "3     Mobile respondents   Linkedin    210       0.022  \n",
       "4  Web-based respondents  Instagram     30       0.256  "
      ]
     },
     "execution_count": 15,
     "metadata": {},
     "output_type": "execute_result"
    }
   ],
   "source": [
    "pj.head()"
   ]
  },
  {
   "cell_type": "code",
   "execution_count": 16,
   "metadata": {},
   "outputs": [
    {
     "data": {
      "text/html": [
       "<div>\n",
       "<style scoped>\n",
       "    .dataframe tbody tr th:only-of-type {\n",
       "        vertical-align: middle;\n",
       "    }\n",
       "\n",
       "    .dataframe tbody tr th {\n",
       "        vertical-align: top;\n",
       "    }\n",
       "\n",
       "    .dataframe thead th {\n",
       "        text-align: right;\n",
       "    }\n",
       "</style>\n",
       "<table border=\"1\" class=\"dataframe\">\n",
       "  <thead>\n",
       "    <tr style=\"text-align: right;\">\n",
       "      <th></th>\n",
       "      <th>Count</th>\n",
       "      <th>Percentage</th>\n",
       "    </tr>\n",
       "  </thead>\n",
       "  <tbody>\n",
       "    <tr>\n",
       "      <th>count</th>\n",
       "      <td>516.000000</td>\n",
       "      <td>516.000000</td>\n",
       "    </tr>\n",
       "    <tr>\n",
       "      <th>mean</th>\n",
       "      <td>73.658915</td>\n",
       "      <td>0.250004</td>\n",
       "    </tr>\n",
       "    <tr>\n",
       "      <th>std</th>\n",
       "      <td>353.258001</td>\n",
       "      <td>0.296293</td>\n",
       "    </tr>\n",
       "    <tr>\n",
       "      <th>min</th>\n",
       "      <td>0.000000</td>\n",
       "      <td>0.000000</td>\n",
       "    </tr>\n",
       "    <tr>\n",
       "      <th>25%</th>\n",
       "      <td>0.000000</td>\n",
       "      <td>0.000000</td>\n",
       "    </tr>\n",
       "    <tr>\n",
       "      <th>50%</th>\n",
       "      <td>4.000000</td>\n",
       "      <td>0.152000</td>\n",
       "    </tr>\n",
       "    <tr>\n",
       "      <th>75%</th>\n",
       "      <td>24.250000</td>\n",
       "      <td>0.411000</td>\n",
       "    </tr>\n",
       "    <tr>\n",
       "      <th>max</th>\n",
       "      <td>5423.000000</td>\n",
       "      <td>1.000000</td>\n",
       "    </tr>\n",
       "  </tbody>\n",
       "</table>\n",
       "</div>"
      ],
      "text/plain": [
       "             Count  Percentage\n",
       "count   516.000000  516.000000\n",
       "mean     73.658915    0.250004\n",
       "std     353.258001    0.296293\n",
       "min       0.000000    0.000000\n",
       "25%       0.000000    0.000000\n",
       "50%       4.000000    0.152000\n",
       "75%      24.250000    0.411000\n",
       "max    5423.000000    1.000000"
      ]
     },
     "execution_count": 16,
     "metadata": {},
     "output_type": "execute_result"
    }
   ],
   "source": [
    "pj.describe()"
   ]
  },
  {
   "cell_type": "code",
   "execution_count": 17,
   "metadata": {},
   "outputs": [
    {
     "data": {
      "text/html": [
       "<div>\n",
       "<style scoped>\n",
       "    .dataframe tbody tr th:only-of-type {\n",
       "        vertical-align: middle;\n",
       "    }\n",
       "\n",
       "    .dataframe tbody tr th {\n",
       "        vertical-align: top;\n",
       "    }\n",
       "\n",
       "    .dataframe thead th {\n",
       "        text-align: right;\n",
       "    }\n",
       "</style>\n",
       "<table border=\"1\" class=\"dataframe\">\n",
       "  <thead>\n",
       "    <tr style=\"text-align: right;\">\n",
       "      <th></th>\n",
       "      <th>Question</th>\n",
       "      <th>Segment Type</th>\n",
       "      <th>Segment Description</th>\n",
       "      <th>Answer</th>\n",
       "      <th>Count</th>\n",
       "      <th>Percentage</th>\n",
       "    </tr>\n",
       "  </thead>\n",
       "  <tbody>\n",
       "    <tr>\n",
       "      <th>2</th>\n",
       "      <td>You open ur phone and have a notif badge on in...</td>\n",
       "      <td>Mobile</td>\n",
       "      <td>Mobile respondents</td>\n",
       "      <td>Snapchat</td>\n",
       "      <td>5423</td>\n",
       "      <td>0.579</td>\n",
       "    </tr>\n",
       "    <tr>\n",
       "      <th>3</th>\n",
       "      <td>You open ur phone and have a notif badge on in...</td>\n",
       "      <td>Mobile</td>\n",
       "      <td>Mobile respondents</td>\n",
       "      <td>Linkedin</td>\n",
       "      <td>210</td>\n",
       "      <td>0.022</td>\n",
       "    </tr>\n",
       "    <tr>\n",
       "      <th>6</th>\n",
       "      <td>You open ur phone and have a notif badge on in...</td>\n",
       "      <td>Web</td>\n",
       "      <td>Web-based respondents</td>\n",
       "      <td>Snapchat</td>\n",
       "      <td>47</td>\n",
       "      <td>0.402</td>\n",
       "    </tr>\n",
       "    <tr>\n",
       "      <th>7</th>\n",
       "      <td>You open ur phone and have a notif badge on in...</td>\n",
       "      <td>Web</td>\n",
       "      <td>Web-based respondents</td>\n",
       "      <td>Linkedin</td>\n",
       "      <td>8</td>\n",
       "      <td>0.068</td>\n",
       "    </tr>\n",
       "    <tr>\n",
       "      <th>10</th>\n",
       "      <td>You open ur phone and have a notif badge on in...</td>\n",
       "      <td>Gender</td>\n",
       "      <td>Female respondents</td>\n",
       "      <td>Snapchat</td>\n",
       "      <td>2967</td>\n",
       "      <td>0.564</td>\n",
       "    </tr>\n",
       "    <tr>\n",
       "      <th>...</th>\n",
       "      <td>...</td>\n",
       "      <td>...</td>\n",
       "      <td>...</td>\n",
       "      <td>...</td>\n",
       "      <td>...</td>\n",
       "      <td>...</td>\n",
       "    </tr>\n",
       "    <tr>\n",
       "      <th>507</th>\n",
       "      <td>You open ur phone and have a notif badge on in...</td>\n",
       "      <td>Custom</td>\n",
       "      <td>I'm in? High School</td>\n",
       "      <td>Linkedin</td>\n",
       "      <td>17</td>\n",
       "      <td>0.013</td>\n",
       "    </tr>\n",
       "    <tr>\n",
       "      <th>510</th>\n",
       "      <td>You open ur phone and have a notif badge on in...</td>\n",
       "      <td>Custom</td>\n",
       "      <td>your parents make?  $50K-$90K</td>\n",
       "      <td>Snapchat</td>\n",
       "      <td>151</td>\n",
       "      <td>0.574</td>\n",
       "    </tr>\n",
       "    <tr>\n",
       "      <th>511</th>\n",
       "      <td>You open ur phone and have a notif badge on in...</td>\n",
       "      <td>Custom</td>\n",
       "      <td>your parents make?  $50K-$90K</td>\n",
       "      <td>Linkedin</td>\n",
       "      <td>4</td>\n",
       "      <td>0.015</td>\n",
       "    </tr>\n",
       "    <tr>\n",
       "      <th>514</th>\n",
       "      <td>You open ur phone and have a notif badge on in...</td>\n",
       "      <td>Custom</td>\n",
       "      <td>Mac or PC? Other 🐧</td>\n",
       "      <td>Snapchat</td>\n",
       "      <td>11</td>\n",
       "      <td>0.478</td>\n",
       "    </tr>\n",
       "    <tr>\n",
       "      <th>515</th>\n",
       "      <td>You open ur phone and have a notif badge on in...</td>\n",
       "      <td>Custom</td>\n",
       "      <td>Mac or PC? Other 🐧</td>\n",
       "      <td>Linkedin</td>\n",
       "      <td>1</td>\n",
       "      <td>0.043</td>\n",
       "    </tr>\n",
       "  </tbody>\n",
       "</table>\n",
       "<p>258 rows × 6 columns</p>\n",
       "</div>"
      ],
      "text/plain": [
       "                                              Question Segment Type  \\\n",
       "2    You open ur phone and have a notif badge on in...       Mobile   \n",
       "3    You open ur phone and have a notif badge on in...       Mobile   \n",
       "6    You open ur phone and have a notif badge on in...          Web   \n",
       "7    You open ur phone and have a notif badge on in...          Web   \n",
       "10   You open ur phone and have a notif badge on in...       Gender   \n",
       "..                                                 ...          ...   \n",
       "507  You open ur phone and have a notif badge on in...       Custom   \n",
       "510  You open ur phone and have a notif badge on in...       Custom   \n",
       "511  You open ur phone and have a notif badge on in...       Custom   \n",
       "514  You open ur phone and have a notif badge on in...       Custom   \n",
       "515  You open ur phone and have a notif badge on in...       Custom   \n",
       "\n",
       "               Segment Description    Answer  Count  Percentage  \n",
       "2               Mobile respondents  Snapchat   5423       0.579  \n",
       "3               Mobile respondents  Linkedin    210       0.022  \n",
       "6            Web-based respondents  Snapchat     47       0.402  \n",
       "7            Web-based respondents  Linkedin      8       0.068  \n",
       "10              Female respondents  Snapchat   2967       0.564  \n",
       "..                             ...       ...    ...         ...  \n",
       "507            I'm in? High School  Linkedin     17       0.013  \n",
       "510  your parents make?  $50K-$90K  Snapchat    151       0.574  \n",
       "511  your parents make?  $50K-$90K  Linkedin      4       0.015  \n",
       "514             Mac or PC? Other 🐧  Snapchat     11       0.478  \n",
       "515             Mac or PC? Other 🐧  Linkedin      1       0.043  \n",
       "\n",
       "[258 rows x 6 columns]"
      ]
     },
     "execution_count": 17,
     "metadata": {},
     "output_type": "execute_result"
    }
   ],
   "source": [
    "pj[pj['Answer'].isin(['Linkedin','Snapchat'])]"
   ]
  },
  {
   "cell_type": "code",
   "execution_count": 55,
   "metadata": {},
   "outputs": [
    {
     "data": {
      "text/plain": [
       "<seaborn.axisgrid.FacetGrid at 0x2d800524670>"
      ]
     },
     "execution_count": 55,
     "metadata": {},
     "output_type": "execute_result"
    },
    {
     "data": {
      "image/png": "[encoded data removed]",
      "text/plain": [
       "<Figure size 360x360 with 1 Axes>"
      ]
     },
     "metadata": {
      "needs_background": "light"
     },
     "output_type": "display_data"
    }
   ],
   "source": [
    "sns.catplot(data=pj, x=\"Segment Type\", y=\"Count\", hue=\"Segment Type\" ,kind=\"point\")"
   ]
  },
  {
   "cell_type": "code",
   "execution_count": 19,
   "metadata": {},
   "outputs": [
    {
     "data": {
      "text/html": [
       "<div>\n",
       "<style scoped>\n",
       "    .dataframe tbody tr th:only-of-type {\n",
       "        vertical-align: middle;\n",
       "    }\n",
       "\n",
       "    .dataframe tbody tr th {\n",
       "        vertical-align: top;\n",
       "    }\n",
       "\n",
       "    .dataframe thead th {\n",
       "        text-align: right;\n",
       "    }\n",
       "</style>\n",
       "<table border=\"1\" class=\"dataframe\">\n",
       "  <thead>\n",
       "    <tr style=\"text-align: right;\">\n",
       "      <th></th>\n",
       "      <th>Question</th>\n",
       "      <th>Segment Type</th>\n",
       "      <th>Segment Description</th>\n",
       "      <th>Answer</th>\n",
       "      <th>Count</th>\n",
       "      <th>Percentage</th>\n",
       "    </tr>\n",
       "  </thead>\n",
       "  <tbody>\n",
       "    <tr>\n",
       "      <th>0</th>\n",
       "      <td>You open ur phone and have a notif badge on in...</td>\n",
       "      <td>Mobile</td>\n",
       "      <td>Mobile respondents</td>\n",
       "      <td>Instagram</td>\n",
       "      <td>2559</td>\n",
       "      <td>0.273</td>\n",
       "    </tr>\n",
       "    <tr>\n",
       "      <th>1</th>\n",
       "      <td>You open ur phone and have a notif badge on in...</td>\n",
       "      <td>Mobile</td>\n",
       "      <td>Mobile respondents</td>\n",
       "      <td>Facebook</td>\n",
       "      <td>1182</td>\n",
       "      <td>0.126</td>\n",
       "    </tr>\n",
       "  </tbody>\n",
       "</table>\n",
       "</div>"
      ],
      "text/plain": [
       "                                            Question Segment Type  \\\n",
       "0  You open ur phone and have a notif badge on in...       Mobile   \n",
       "1  You open ur phone and have a notif badge on in...       Mobile   \n",
       "\n",
       "  Segment Description     Answer  Count  Percentage  \n",
       "0  Mobile respondents  Instagram   2559       0.273  \n",
       "1  Mobile respondents   Facebook   1182       0.126  "
      ]
     },
     "execution_count": 19,
     "metadata": {},
     "output_type": "execute_result"
    }
   ],
   "source": [
    "pj.head(2)"
   ]
  },
  {
   "cell_type": "code",
   "execution_count": 21,
   "metadata": {},
   "outputs": [
    {
     "data": {
      "image/png": "[encoded data removed]",
      "text/plain": [
       "<Figure size 864x864 with 2 Axes>"
      ]
     },
     "metadata": {
      "needs_background": "light"
     },
     "output_type": "display_data"
    }
   ],
   "source": [
    "import seaborn as sns\n",
    "corr = pj.corr()\n",
    "plt.figure(figsize=(12,12))\n",
    "a = sns.heatmap(corr, annot=False, fmt='g')"
   ]
  },
  {
   "cell_type": "code",
   "execution_count": 22,
   "metadata": {},
   "outputs": [
    {
     "data": {
      "text/plain": [
       "(516, 6)"
      ]
     },
     "execution_count": 22,
     "metadata": {},
     "output_type": "execute_result"
    }
   ],
   "source": [
    "pj.shape"
   ]
  },
  {
   "cell_type": "code",
   "execution_count": 23,
   "metadata": {},
   "outputs": [
    {
     "data": {
      "text/html": [
       "<div>\n",
       "<style scoped>\n",
       "    .dataframe tbody tr th:only-of-type {\n",
       "        vertical-align: middle;\n",
       "    }\n",
       "\n",
       "    .dataframe tbody tr th {\n",
       "        vertical-align: top;\n",
       "    }\n",
       "\n",
       "    .dataframe thead th {\n",
       "        text-align: right;\n",
       "    }\n",
       "</style>\n",
       "<table border=\"1\" class=\"dataframe\">\n",
       "  <thead>\n",
       "    <tr style=\"text-align: right;\">\n",
       "      <th></th>\n",
       "      <th>Question</th>\n",
       "      <th>Segment Type</th>\n",
       "      <th>Segment Description</th>\n",
       "      <th>Answer</th>\n",
       "      <th>Count</th>\n",
       "      <th>Percentage</th>\n",
       "    </tr>\n",
       "  </thead>\n",
       "  <tbody>\n",
       "    <tr>\n",
       "      <th>0</th>\n",
       "      <td>False</td>\n",
       "      <td>False</td>\n",
       "      <td>False</td>\n",
       "      <td>False</td>\n",
       "      <td>False</td>\n",
       "      <td>False</td>\n",
       "    </tr>\n",
       "    <tr>\n",
       "      <th>1</th>\n",
       "      <td>False</td>\n",
       "      <td>False</td>\n",
       "      <td>False</td>\n",
       "      <td>False</td>\n",
       "      <td>False</td>\n",
       "      <td>False</td>\n",
       "    </tr>\n",
       "    <tr>\n",
       "      <th>2</th>\n",
       "      <td>False</td>\n",
       "      <td>False</td>\n",
       "      <td>False</td>\n",
       "      <td>False</td>\n",
       "      <td>False</td>\n",
       "      <td>False</td>\n",
       "    </tr>\n",
       "    <tr>\n",
       "      <th>3</th>\n",
       "      <td>False</td>\n",
       "      <td>False</td>\n",
       "      <td>False</td>\n",
       "      <td>False</td>\n",
       "      <td>False</td>\n",
       "      <td>False</td>\n",
       "    </tr>\n",
       "    <tr>\n",
       "      <th>4</th>\n",
       "      <td>False</td>\n",
       "      <td>False</td>\n",
       "      <td>False</td>\n",
       "      <td>False</td>\n",
       "      <td>False</td>\n",
       "      <td>False</td>\n",
       "    </tr>\n",
       "    <tr>\n",
       "      <th>...</th>\n",
       "      <td>...</td>\n",
       "      <td>...</td>\n",
       "      <td>...</td>\n",
       "      <td>...</td>\n",
       "      <td>...</td>\n",
       "      <td>...</td>\n",
       "    </tr>\n",
       "    <tr>\n",
       "      <th>511</th>\n",
       "      <td>False</td>\n",
       "      <td>False</td>\n",
       "      <td>False</td>\n",
       "      <td>False</td>\n",
       "      <td>False</td>\n",
       "      <td>False</td>\n",
       "    </tr>\n",
       "    <tr>\n",
       "      <th>512</th>\n",
       "      <td>False</td>\n",
       "      <td>False</td>\n",
       "      <td>False</td>\n",
       "      <td>False</td>\n",
       "      <td>False</td>\n",
       "      <td>False</td>\n",
       "    </tr>\n",
       "    <tr>\n",
       "      <th>513</th>\n",
       "      <td>False</td>\n",
       "      <td>False</td>\n",
       "      <td>False</td>\n",
       "      <td>False</td>\n",
       "      <td>False</td>\n",
       "      <td>False</td>\n",
       "    </tr>\n",
       "    <tr>\n",
       "      <th>514</th>\n",
       "      <td>False</td>\n",
       "      <td>False</td>\n",
       "      <td>False</td>\n",
       "      <td>False</td>\n",
       "      <td>False</td>\n",
       "      <td>False</td>\n",
       "    </tr>\n",
       "    <tr>\n",
       "      <th>515</th>\n",
       "      <td>False</td>\n",
       "      <td>False</td>\n",
       "      <td>False</td>\n",
       "      <td>False</td>\n",
       "      <td>False</td>\n",
       "      <td>False</td>\n",
       "    </tr>\n",
       "  </tbody>\n",
       "</table>\n",
       "<p>516 rows × 6 columns</p>\n",
       "</div>"
      ],
      "text/plain": [
       "     Question  Segment Type  Segment Description  Answer  Count  Percentage\n",
       "0       False         False                False   False  False       False\n",
       "1       False         False                False   False  False       False\n",
       "2       False         False                False   False  False       False\n",
       "3       False         False                False   False  False       False\n",
       "4       False         False                False   False  False       False\n",
       "..        ...           ...                  ...     ...    ...         ...\n",
       "511     False         False                False   False  False       False\n",
       "512     False         False                False   False  False       False\n",
       "513     False         False                False   False  False       False\n",
       "514     False         False                False   False  False       False\n",
       "515     False         False                False   False  False       False\n",
       "\n",
       "[516 rows x 6 columns]"
      ]
     },
     "execution_count": 23,
     "metadata": {},
     "output_type": "execute_result"
    }
   ],
   "source": [
    "pj.isnull()"
   ]
  },
  {
   "cell_type": "code",
   "execution_count": 24,
   "metadata": {},
   "outputs": [
    {
     "data": {
      "text/plain": [
       "Question               0\n",
       "Segment Type           0\n",
       "Segment Description    0\n",
       "Answer                 0\n",
       "Count                  0\n",
       "Percentage             0\n",
       "dtype: int64"
      ]
     },
     "execution_count": 24,
     "metadata": {},
     "output_type": "execute_result"
    }
   ],
   "source": [
    "pj.isnull().sum()"
   ]
  },
  {
   "cell_type": "code",
   "execution_count": 25,
   "metadata": {},
   "outputs": [
    {
     "data": {
      "text/html": [
       "<div>\n",
       "<style scoped>\n",
       "    .dataframe tbody tr th:only-of-type {\n",
       "        vertical-align: middle;\n",
       "    }\n",
       "\n",
       "    .dataframe tbody tr th {\n",
       "        vertical-align: top;\n",
       "    }\n",
       "\n",
       "    .dataframe thead th {\n",
       "        text-align: right;\n",
       "    }\n",
       "</style>\n",
       "<table border=\"1\" class=\"dataframe\">\n",
       "  <thead>\n",
       "    <tr style=\"text-align: right;\">\n",
       "      <th></th>\n",
       "      <th>Question</th>\n",
       "      <th>Segment Type</th>\n",
       "      <th>Segment Description</th>\n",
       "      <th>Answer</th>\n",
       "      <th>Count</th>\n",
       "      <th>Percentage</th>\n",
       "    </tr>\n",
       "  </thead>\n",
       "  <tbody>\n",
       "    <tr>\n",
       "      <th>0</th>\n",
       "      <td>You open ur phone and have a notif badge on in...</td>\n",
       "      <td>Mobile</td>\n",
       "      <td>Mobile respondents</td>\n",
       "      <td>Instagram</td>\n",
       "      <td>2559</td>\n",
       "      <td>0.273</td>\n",
       "    </tr>\n",
       "    <tr>\n",
       "      <th>1</th>\n",
       "      <td>You open ur phone and have a notif badge on in...</td>\n",
       "      <td>Mobile</td>\n",
       "      <td>Mobile respondents</td>\n",
       "      <td>Facebook</td>\n",
       "      <td>1182</td>\n",
       "      <td>0.126</td>\n",
       "    </tr>\n",
       "    <tr>\n",
       "      <th>2</th>\n",
       "      <td>You open ur phone and have a notif badge on in...</td>\n",
       "      <td>Mobile</td>\n",
       "      <td>Mobile respondents</td>\n",
       "      <td>Snapchat</td>\n",
       "      <td>5423</td>\n",
       "      <td>0.579</td>\n",
       "    </tr>\n",
       "    <tr>\n",
       "      <th>3</th>\n",
       "      <td>You open ur phone and have a notif badge on in...</td>\n",
       "      <td>Mobile</td>\n",
       "      <td>Mobile respondents</td>\n",
       "      <td>Linkedin</td>\n",
       "      <td>210</td>\n",
       "      <td>0.022</td>\n",
       "    </tr>\n",
       "    <tr>\n",
       "      <th>4</th>\n",
       "      <td>You open ur phone and have a notif badge on in...</td>\n",
       "      <td>Web</td>\n",
       "      <td>Web-based respondents</td>\n",
       "      <td>Instagram</td>\n",
       "      <td>30</td>\n",
       "      <td>0.256</td>\n",
       "    </tr>\n",
       "    <tr>\n",
       "      <th>...</th>\n",
       "      <td>...</td>\n",
       "      <td>...</td>\n",
       "      <td>...</td>\n",
       "      <td>...</td>\n",
       "      <td>...</td>\n",
       "      <td>...</td>\n",
       "    </tr>\n",
       "    <tr>\n",
       "      <th>511</th>\n",
       "      <td>You open ur phone and have a notif badge on in...</td>\n",
       "      <td>Custom</td>\n",
       "      <td>your parents make?  $50K-$90K</td>\n",
       "      <td>Linkedin</td>\n",
       "      <td>4</td>\n",
       "      <td>0.015</td>\n",
       "    </tr>\n",
       "    <tr>\n",
       "      <th>512</th>\n",
       "      <td>You open ur phone and have a notif badge on in...</td>\n",
       "      <td>Custom</td>\n",
       "      <td>Mac or PC? Other 🐧</td>\n",
       "      <td>Instagram</td>\n",
       "      <td>5</td>\n",
       "      <td>0.217</td>\n",
       "    </tr>\n",
       "    <tr>\n",
       "      <th>513</th>\n",
       "      <td>You open ur phone and have a notif badge on in...</td>\n",
       "      <td>Custom</td>\n",
       "      <td>Mac or PC? Other 🐧</td>\n",
       "      <td>Facebook</td>\n",
       "      <td>6</td>\n",
       "      <td>0.261</td>\n",
       "    </tr>\n",
       "    <tr>\n",
       "      <th>514</th>\n",
       "      <td>You open ur phone and have a notif badge on in...</td>\n",
       "      <td>Custom</td>\n",
       "      <td>Mac or PC? Other 🐧</td>\n",
       "      <td>Snapchat</td>\n",
       "      <td>11</td>\n",
       "      <td>0.478</td>\n",
       "    </tr>\n",
       "    <tr>\n",
       "      <th>515</th>\n",
       "      <td>You open ur phone and have a notif badge on in...</td>\n",
       "      <td>Custom</td>\n",
       "      <td>Mac or PC? Other 🐧</td>\n",
       "      <td>Linkedin</td>\n",
       "      <td>1</td>\n",
       "      <td>0.043</td>\n",
       "    </tr>\n",
       "  </tbody>\n",
       "</table>\n",
       "<p>516 rows × 6 columns</p>\n",
       "</div>"
      ],
      "text/plain": [
       "                                              Question Segment Type  \\\n",
       "0    You open ur phone and have a notif badge on in...       Mobile   \n",
       "1    You open ur phone and have a notif badge on in...       Mobile   \n",
       "2    You open ur phone and have a notif badge on in...       Mobile   \n",
       "3    You open ur phone and have a notif badge on in...       Mobile   \n",
       "4    You open ur phone and have a notif badge on in...          Web   \n",
       "..                                                 ...          ...   \n",
       "511  You open ur phone and have a notif badge on in...       Custom   \n",
       "512  You open ur phone and have a notif badge on in...       Custom   \n",
       "513  You open ur phone and have a notif badge on in...       Custom   \n",
       "514  You open ur phone and have a notif badge on in...       Custom   \n",
       "515  You open ur phone and have a notif badge on in...       Custom   \n",
       "\n",
       "               Segment Description     Answer  Count  Percentage  \n",
       "0               Mobile respondents  Instagram   2559       0.273  \n",
       "1               Mobile respondents   Facebook   1182       0.126  \n",
       "2               Mobile respondents   Snapchat   5423       0.579  \n",
       "3               Mobile respondents   Linkedin    210       0.022  \n",
       "4            Web-based respondents  Instagram     30       0.256  \n",
       "..                             ...        ...    ...         ...  \n",
       "511  your parents make?  $50K-$90K   Linkedin      4       0.015  \n",
       "512             Mac or PC? Other 🐧  Instagram      5       0.217  \n",
       "513             Mac or PC? Other 🐧   Facebook      6       0.261  \n",
       "514             Mac or PC? Other 🐧   Snapchat     11       0.478  \n",
       "515             Mac or PC? Other 🐧   Linkedin      1       0.043  \n",
       "\n",
       "[516 rows x 6 columns]"
      ]
     },
     "execution_count": 25,
     "metadata": {},
     "output_type": "execute_result"
    }
   ],
   "source": [
    "pj"
   ]
  },
  {
   "cell_type": "code",
   "execution_count": 26,
   "metadata": {},
   "outputs": [
    {
     "data": {
      "text/plain": [
       "University    308\n",
       "Custom        192\n",
       "Gender          8\n",
       "Mobile          4\n",
       "Web             4\n",
       "Name: Segment Type, dtype: int64"
      ]
     },
     "execution_count": 26,
     "metadata": {},
     "output_type": "execute_result"
    }
   ],
   "source": [
    "pj['Segment Type'].value_counts()"
   ]
  },
  {
   "cell_type": "code",
   "execution_count": 27,
   "metadata": {},
   "outputs": [
    {
     "data": {
      "text/plain": [
       "Linkedin     129\n",
       "Facebook     129\n",
       "Instagram    129\n",
       "Snapchat     129\n",
       "Name: Answer, dtype: int64"
      ]
     },
     "execution_count": 27,
     "metadata": {},
     "output_type": "execute_result"
    }
   ],
   "source": [
    "pj['Answer'].value_counts()"
   ]
  },
  {
   "cell_type": "code",
   "execution_count": 28,
   "metadata": {},
   "outputs": [
    {
     "data": {
      "text/plain": [
       "Duke University                          4\n",
       "Chaparral High School                    4\n",
       "you vote for? Hillary Clinton            4\n",
       "you vote for? Donald Trump               4\n",
       "Mac or PC? Mac 🖥                         4\n",
       "                                        ..\n",
       "University of California, Los Angeles    4\n",
       "Emory University                         4\n",
       "University of Alabama                    4\n",
       "University of California, Davis          4\n",
       "I'm in? Grad School                      4\n",
       "Name: Segment Description, Length: 129, dtype: int64"
      ]
     },
     "execution_count": 28,
     "metadata": {},
     "output_type": "execute_result"
    }
   ],
   "source": [
    "pj['Segment Description'].value_counts()"
   ]
  },
  {
   "cell_type": "code",
   "execution_count": 29,
   "metadata": {},
   "outputs": [
    {
     "data": {
      "text/html": [
       "<div>\n",
       "<style scoped>\n",
       "    .dataframe tbody tr th:only-of-type {\n",
       "        vertical-align: middle;\n",
       "    }\n",
       "\n",
       "    .dataframe tbody tr th {\n",
       "        vertical-align: top;\n",
       "    }\n",
       "\n",
       "    .dataframe thead th {\n",
       "        text-align: right;\n",
       "    }\n",
       "</style>\n",
       "<table border=\"1\" class=\"dataframe\">\n",
       "  <thead>\n",
       "    <tr style=\"text-align: right;\">\n",
       "      <th></th>\n",
       "      <th>Question</th>\n",
       "      <th>Segment Type</th>\n",
       "      <th>Segment Description</th>\n",
       "      <th>Answer</th>\n",
       "      <th>Count</th>\n",
       "      <th>Percentage</th>\n",
       "    </tr>\n",
       "  </thead>\n",
       "  <tbody>\n",
       "    <tr>\n",
       "      <th>0</th>\n",
       "      <td>You open ur phone and have a notif badge on in...</td>\n",
       "      <td>Mobile</td>\n",
       "      <td>Mobile respondents</td>\n",
       "      <td>Instagram</td>\n",
       "      <td>2559</td>\n",
       "      <td>0.273</td>\n",
       "    </tr>\n",
       "    <tr>\n",
       "      <th>1</th>\n",
       "      <td>You open ur phone and have a notif badge on in...</td>\n",
       "      <td>Mobile</td>\n",
       "      <td>Mobile respondents</td>\n",
       "      <td>Facebook</td>\n",
       "      <td>1182</td>\n",
       "      <td>0.126</td>\n",
       "    </tr>\n",
       "    <tr>\n",
       "      <th>2</th>\n",
       "      <td>You open ur phone and have a notif badge on in...</td>\n",
       "      <td>Mobile</td>\n",
       "      <td>Mobile respondents</td>\n",
       "      <td>Snapchat</td>\n",
       "      <td>5423</td>\n",
       "      <td>0.579</td>\n",
       "    </tr>\n",
       "    <tr>\n",
       "      <th>3</th>\n",
       "      <td>You open ur phone and have a notif badge on in...</td>\n",
       "      <td>Mobile</td>\n",
       "      <td>Mobile respondents</td>\n",
       "      <td>Linkedin</td>\n",
       "      <td>210</td>\n",
       "      <td>0.022</td>\n",
       "    </tr>\n",
       "    <tr>\n",
       "      <th>4</th>\n",
       "      <td>You open ur phone and have a notif badge on in...</td>\n",
       "      <td>Web</td>\n",
       "      <td>Web-based respondents</td>\n",
       "      <td>Instagram</td>\n",
       "      <td>30</td>\n",
       "      <td>0.256</td>\n",
       "    </tr>\n",
       "    <tr>\n",
       "      <th>5</th>\n",
       "      <td>You open ur phone and have a notif badge on in...</td>\n",
       "      <td>Web</td>\n",
       "      <td>Web-based respondents</td>\n",
       "      <td>Facebook</td>\n",
       "      <td>32</td>\n",
       "      <td>0.274</td>\n",
       "    </tr>\n",
       "    <tr>\n",
       "      <th>6</th>\n",
       "      <td>You open ur phone and have a notif badge on in...</td>\n",
       "      <td>Web</td>\n",
       "      <td>Web-based respondents</td>\n",
       "      <td>Snapchat</td>\n",
       "      <td>47</td>\n",
       "      <td>0.402</td>\n",
       "    </tr>\n",
       "    <tr>\n",
       "      <th>7</th>\n",
       "      <td>You open ur phone and have a notif badge on in...</td>\n",
       "      <td>Web</td>\n",
       "      <td>Web-based respondents</td>\n",
       "      <td>Linkedin</td>\n",
       "      <td>8</td>\n",
       "      <td>0.068</td>\n",
       "    </tr>\n",
       "  </tbody>\n",
       "</table>\n",
       "</div>"
      ],
      "text/plain": [
       "                                            Question Segment Type  \\\n",
       "0  You open ur phone and have a notif badge on in...       Mobile   \n",
       "1  You open ur phone and have a notif badge on in...       Mobile   \n",
       "2  You open ur phone and have a notif badge on in...       Mobile   \n",
       "3  You open ur phone and have a notif badge on in...       Mobile   \n",
       "4  You open ur phone and have a notif badge on in...          Web   \n",
       "5  You open ur phone and have a notif badge on in...          Web   \n",
       "6  You open ur phone and have a notif badge on in...          Web   \n",
       "7  You open ur phone and have a notif badge on in...          Web   \n",
       "\n",
       "     Segment Description     Answer  Count  Percentage  \n",
       "0     Mobile respondents  Instagram   2559       0.273  \n",
       "1     Mobile respondents   Facebook   1182       0.126  \n",
       "2     Mobile respondents   Snapchat   5423       0.579  \n",
       "3     Mobile respondents   Linkedin    210       0.022  \n",
       "4  Web-based respondents  Instagram     30       0.256  \n",
       "5  Web-based respondents   Facebook     32       0.274  \n",
       "6  Web-based respondents   Snapchat     47       0.402  \n",
       "7  Web-based respondents   Linkedin      8       0.068  "
      ]
     },
     "execution_count": 29,
     "metadata": {},
     "output_type": "execute_result"
    }
   ],
   "source": [
    "pj[pj['Segment Type'].isin(['Web','Mobile'])]"
   ]
  },
  {
   "cell_type": "code",
   "execution_count": 30,
   "metadata": {},
   "outputs": [
    {
     "data": {
      "text/html": [
       "<div>\n",
       "<style scoped>\n",
       "    .dataframe tbody tr th:only-of-type {\n",
       "        vertical-align: middle;\n",
       "    }\n",
       "\n",
       "    .dataframe tbody tr th {\n",
       "        vertical-align: top;\n",
       "    }\n",
       "\n",
       "    .dataframe thead th {\n",
       "        text-align: right;\n",
       "    }\n",
       "</style>\n",
       "<table border=\"1\" class=\"dataframe\">\n",
       "  <thead>\n",
       "    <tr style=\"text-align: right;\">\n",
       "      <th></th>\n",
       "      <th>Question</th>\n",
       "      <th>Segment Type</th>\n",
       "      <th>Segment Description</th>\n",
       "      <th>Answer</th>\n",
       "      <th>Count</th>\n",
       "      <th>Percentage</th>\n",
       "    </tr>\n",
       "  </thead>\n",
       "  <tbody>\n",
       "    <tr>\n",
       "      <th>2</th>\n",
       "      <td>You open ur phone and have a notif badge on in...</td>\n",
       "      <td>Mobile</td>\n",
       "      <td>Mobile respondents</td>\n",
       "      <td>Snapchat</td>\n",
       "      <td>5423</td>\n",
       "      <td>0.579</td>\n",
       "    </tr>\n",
       "  </tbody>\n",
       "</table>\n",
       "</div>"
      ],
      "text/plain": [
       "                                            Question Segment Type  \\\n",
       "2  You open ur phone and have a notif badge on in...       Mobile   \n",
       "\n",
       "  Segment Description    Answer  Count  Percentage  \n",
       "2  Mobile respondents  Snapchat   5423       0.579  "
      ]
     },
     "execution_count": 30,
     "metadata": {},
     "output_type": "execute_result"
    }
   ],
   "source": [
    "pj[(pj['Count']>5000)]"
   ]
  },
  {
   "cell_type": "code",
   "execution_count": 31,
   "metadata": {},
   "outputs": [],
   "source": [
    "pj['Percentage']=pj['Percentage'].apply(lambda x:x*100)"
   ]
  },
  {
   "cell_type": "code",
   "execution_count": 32,
   "metadata": {},
   "outputs": [
    {
     "data": {
      "text/html": [
       "<div>\n",
       "<style scoped>\n",
       "    .dataframe tbody tr th:only-of-type {\n",
       "        vertical-align: middle;\n",
       "    }\n",
       "\n",
       "    .dataframe tbody tr th {\n",
       "        vertical-align: top;\n",
       "    }\n",
       "\n",
       "    .dataframe thead th {\n",
       "        text-align: right;\n",
       "    }\n",
       "</style>\n",
       "<table border=\"1\" class=\"dataframe\">\n",
       "  <thead>\n",
       "    <tr style=\"text-align: right;\">\n",
       "      <th></th>\n",
       "      <th>Question</th>\n",
       "      <th>Segment Type</th>\n",
       "      <th>Segment Description</th>\n",
       "      <th>Answer</th>\n",
       "      <th>Count</th>\n",
       "      <th>Percentage</th>\n",
       "    </tr>\n",
       "  </thead>\n",
       "  <tbody>\n",
       "    <tr>\n",
       "      <th>0</th>\n",
       "      <td>You open ur phone and have a notif badge on in...</td>\n",
       "      <td>Mobile</td>\n",
       "      <td>Mobile respondents</td>\n",
       "      <td>Instagram</td>\n",
       "      <td>2559</td>\n",
       "      <td>27.3</td>\n",
       "    </tr>\n",
       "    <tr>\n",
       "      <th>1</th>\n",
       "      <td>You open ur phone and have a notif badge on in...</td>\n",
       "      <td>Mobile</td>\n",
       "      <td>Mobile respondents</td>\n",
       "      <td>Facebook</td>\n",
       "      <td>1182</td>\n",
       "      <td>12.6</td>\n",
       "    </tr>\n",
       "    <tr>\n",
       "      <th>2</th>\n",
       "      <td>You open ur phone and have a notif badge on in...</td>\n",
       "      <td>Mobile</td>\n",
       "      <td>Mobile respondents</td>\n",
       "      <td>Snapchat</td>\n",
       "      <td>5423</td>\n",
       "      <td>57.9</td>\n",
       "    </tr>\n",
       "    <tr>\n",
       "      <th>3</th>\n",
       "      <td>You open ur phone and have a notif badge on in...</td>\n",
       "      <td>Mobile</td>\n",
       "      <td>Mobile respondents</td>\n",
       "      <td>Linkedin</td>\n",
       "      <td>210</td>\n",
       "      <td>2.2</td>\n",
       "    </tr>\n",
       "    <tr>\n",
       "      <th>4</th>\n",
       "      <td>You open ur phone and have a notif badge on in...</td>\n",
       "      <td>Web</td>\n",
       "      <td>Web-based respondents</td>\n",
       "      <td>Instagram</td>\n",
       "      <td>30</td>\n",
       "      <td>25.6</td>\n",
       "    </tr>\n",
       "    <tr>\n",
       "      <th>...</th>\n",
       "      <td>...</td>\n",
       "      <td>...</td>\n",
       "      <td>...</td>\n",
       "      <td>...</td>\n",
       "      <td>...</td>\n",
       "      <td>...</td>\n",
       "    </tr>\n",
       "    <tr>\n",
       "      <th>511</th>\n",
       "      <td>You open ur phone and have a notif badge on in...</td>\n",
       "      <td>Custom</td>\n",
       "      <td>your parents make?  $50K-$90K</td>\n",
       "      <td>Linkedin</td>\n",
       "      <td>4</td>\n",
       "      <td>1.5</td>\n",
       "    </tr>\n",
       "    <tr>\n",
       "      <th>512</th>\n",
       "      <td>You open ur phone and have a notif badge on in...</td>\n",
       "      <td>Custom</td>\n",
       "      <td>Mac or PC? Other 🐧</td>\n",
       "      <td>Instagram</td>\n",
       "      <td>5</td>\n",
       "      <td>21.7</td>\n",
       "    </tr>\n",
       "    <tr>\n",
       "      <th>513</th>\n",
       "      <td>You open ur phone and have a notif badge on in...</td>\n",
       "      <td>Custom</td>\n",
       "      <td>Mac or PC? Other 🐧</td>\n",
       "      <td>Facebook</td>\n",
       "      <td>6</td>\n",
       "      <td>26.1</td>\n",
       "    </tr>\n",
       "    <tr>\n",
       "      <th>514</th>\n",
       "      <td>You open ur phone and have a notif badge on in...</td>\n",
       "      <td>Custom</td>\n",
       "      <td>Mac or PC? Other 🐧</td>\n",
       "      <td>Snapchat</td>\n",
       "      <td>11</td>\n",
       "      <td>47.8</td>\n",
       "    </tr>\n",
       "    <tr>\n",
       "      <th>515</th>\n",
       "      <td>You open ur phone and have a notif badge on in...</td>\n",
       "      <td>Custom</td>\n",
       "      <td>Mac or PC? Other 🐧</td>\n",
       "      <td>Linkedin</td>\n",
       "      <td>1</td>\n",
       "      <td>4.3</td>\n",
       "    </tr>\n",
       "  </tbody>\n",
       "</table>\n",
       "<p>516 rows × 6 columns</p>\n",
       "</div>"
      ],
      "text/plain": [
       "                                              Question Segment Type  \\\n",
       "0    You open ur phone and have a notif badge on in...       Mobile   \n",
       "1    You open ur phone and have a notif badge on in...       Mobile   \n",
       "2    You open ur phone and have a notif badge on in...       Mobile   \n",
       "3    You open ur phone and have a notif badge on in...       Mobile   \n",
       "4    You open ur phone and have a notif badge on in...          Web   \n",
       "..                                                 ...          ...   \n",
       "511  You open ur phone and have a notif badge on in...       Custom   \n",
       "512  You open ur phone and have a notif badge on in...       Custom   \n",
       "513  You open ur phone and have a notif badge on in...       Custom   \n",
       "514  You open ur phone and have a notif badge on in...       Custom   \n",
       "515  You open ur phone and have a notif badge on in...       Custom   \n",
       "\n",
       "               Segment Description     Answer  Count  Percentage  \n",
       "0               Mobile respondents  Instagram   2559        27.3  \n",
       "1               Mobile respondents   Facebook   1182        12.6  \n",
       "2               Mobile respondents   Snapchat   5423        57.9  \n",
       "3               Mobile respondents   Linkedin    210         2.2  \n",
       "4            Web-based respondents  Instagram     30        25.6  \n",
       "..                             ...        ...    ...         ...  \n",
       "511  your parents make?  $50K-$90K   Linkedin      4         1.5  \n",
       "512             Mac or PC? Other 🐧  Instagram      5        21.7  \n",
       "513             Mac or PC? Other 🐧   Facebook      6        26.1  \n",
       "514             Mac or PC? Other 🐧   Snapchat     11        47.8  \n",
       "515             Mac or PC? Other 🐧   Linkedin      1         4.3  \n",
       "\n",
       "[516 rows x 6 columns]"
      ]
     },
     "execution_count": 32,
     "metadata": {},
     "output_type": "execute_result"
    }
   ],
   "source": [
    "pj"
   ]
  },
  {
   "cell_type": "code",
   "execution_count": 35,
   "metadata": {},
   "outputs": [
    {
     "data": {
      "image/png": "[encoded data removed]",
      "text/plain": [
       "<Figure size 504x576 with 2 Axes>"
      ]
     },
     "metadata": {
      "needs_background": "light"
     },
     "output_type": "display_data"
    }
   ],
   "source": [
    "pj[['Percentage','Count']].hist(figsize=(7,8),bins=6,color='g')\n",
    "plt.tight_layout()\n",
    "plt.show()"
   ]
  },
  {
   "cell_type": "code",
   "execution_count": 41,
   "metadata": {},
   "outputs": [
    {
     "data": {
      "image/png": "[encoded data removed]",
      "text/plain": [
       "<Figure size 864x576 with 2 Axes>"
      ]
     },
     "metadata": {
      "needs_background": "light"
     },
     "output_type": "display_data"
    }
   ],
   "source": [
    "import seaborn as sns\n",
    "corrpj = pj.corr()\n",
    "plt.figure(figsize=(12,8))\n",
    "a = sns.heatmap(corrpj, annot=True, fmt='.2g')"
   ]
  },
  {
   "cell_type": "code",
   "execution_count": 46,
   "metadata": {},
   "outputs": [
    {
     "data": {
      "text/plain": [
       "<seaborn.axisgrid.FacetGrid at 0x2d836a47730>"
      ]
     },
     "execution_count": 46,
     "metadata": {},
     "output_type": "execute_result"
    },
    {
     "data": {
      "image/png": "[encoded data removed]",
      "text/plain": [
       "<Figure size 360x360 with 1 Axes>"
      ]
     },
     "metadata": {
      "needs_background": "light"
     },
     "output_type": "display_data"
    }
   ],
   "source": [
    "sns.catplot(data=pj, x=\"Percentage\", y=\"Count\", hue=\"Percentage\" ,kind=\"point\")"
   ]
  },
  {
   "cell_type": "code",
   "execution_count": 45,
   "metadata": {},
   "outputs": [
    {
     "data": {
      "text/plain": [
       "dtype('int64')"
      ]
     },
     "execution_count": 45,
     "metadata": {},
     "output_type": "execute_result"
    }
   ],
   "source": [
    "pj['Count'].dtype"
   ]
  },
  {
   "cell_type": "code",
   "execution_count": 47,
   "metadata": {},
   "outputs": [
    {
     "data": {
      "text/plain": [
       "dtype('O')"
      ]
     },
     "execution_count": 47,
     "metadata": {},
     "output_type": "execute_result"
    }
   ],
   "source": [
    "pj['Answer'].dtype"
   ]
  },
  {
   "cell_type": "code",
   "execution_count": 48,
   "metadata": {},
   "outputs": [
    {
     "data": {
      "text/plain": [
       "array(['Mobile', 'Web', 'Gender', 'University', 'Custom'], dtype=object)"
      ]
     },
     "execution_count": 48,
     "metadata": {},
     "output_type": "execute_result"
    }
   ],
   "source": [
    "pj['Segment Type'].unique()"
   ]
  },
  {
   "cell_type": "code",
   "execution_count": 51,
   "metadata": {},
   "outputs": [],
   "source": [
    "group = pj[['Count','Percentage']]"
   ]
  },
  {
   "cell_type": "code",
   "execution_count": 52,
   "metadata": {},
   "outputs": [
    {
     "data": {
      "text/html": [
       "<div>\n",
       "<style scoped>\n",
       "    .dataframe tbody tr th:only-of-type {\n",
       "        vertical-align: middle;\n",
       "    }\n",
       "\n",
       "    .dataframe tbody tr th {\n",
       "        vertical-align: top;\n",
       "    }\n",
       "\n",
       "    .dataframe thead th {\n",
       "        text-align: right;\n",
       "    }\n",
       "</style>\n",
       "<table border=\"1\" class=\"dataframe\">\n",
       "  <thead>\n",
       "    <tr style=\"text-align: right;\">\n",
       "      <th></th>\n",
       "      <th>Count</th>\n",
       "      <th>Percentage</th>\n",
       "    </tr>\n",
       "  </thead>\n",
       "  <tbody>\n",
       "    <tr>\n",
       "      <th>0</th>\n",
       "      <td>0</td>\n",
       "      <td>0.000000</td>\n",
       "    </tr>\n",
       "    <tr>\n",
       "      <th>1</th>\n",
       "      <td>1</td>\n",
       "      <td>64.647761</td>\n",
       "    </tr>\n",
       "    <tr>\n",
       "      <th>2</th>\n",
       "      <td>2</td>\n",
       "      <td>31.560000</td>\n",
       "    </tr>\n",
       "    <tr>\n",
       "      <th>3</th>\n",
       "      <td>3</td>\n",
       "      <td>11.963636</td>\n",
       "    </tr>\n",
       "    <tr>\n",
       "      <th>4</th>\n",
       "      <td>4</td>\n",
       "      <td>11.470000</td>\n",
       "    </tr>\n",
       "    <tr>\n",
       "      <th>...</th>\n",
       "      <td>...</td>\n",
       "      <td>...</td>\n",
       "    </tr>\n",
       "    <tr>\n",
       "      <th>117</th>\n",
       "      <td>2265</td>\n",
       "      <td>53.700000</td>\n",
       "    </tr>\n",
       "    <tr>\n",
       "      <th>118</th>\n",
       "      <td>2483</td>\n",
       "      <td>59.100000</td>\n",
       "    </tr>\n",
       "    <tr>\n",
       "      <th>119</th>\n",
       "      <td>2559</td>\n",
       "      <td>27.300000</td>\n",
       "    </tr>\n",
       "    <tr>\n",
       "      <th>120</th>\n",
       "      <td>2967</td>\n",
       "      <td>56.400000</td>\n",
       "    </tr>\n",
       "    <tr>\n",
       "      <th>121</th>\n",
       "      <td>5423</td>\n",
       "      <td>57.900000</td>\n",
       "    </tr>\n",
       "  </tbody>\n",
       "</table>\n",
       "<p>122 rows × 2 columns</p>\n",
       "</div>"
      ],
      "text/plain": [
       "     Count  Percentage\n",
       "0        0    0.000000\n",
       "1        1   64.647761\n",
       "2        2   31.560000\n",
       "3        3   11.963636\n",
       "4        4   11.470000\n",
       "..     ...         ...\n",
       "117   2265   53.700000\n",
       "118   2483   59.100000\n",
       "119   2559   27.300000\n",
       "120   2967   56.400000\n",
       "121   5423   57.900000\n",
       "\n",
       "[122 rows x 2 columns]"
      ]
     },
     "execution_count": 52,
     "metadata": {},
     "output_type": "execute_result"
    }
   ],
   "source": [
    "group = group.groupby(['Count'],as_index=False).mean()\n",
    "group"
   ]
  },
  {
   "cell_type": "code",
   "execution_count": 54,
   "metadata": {},
   "outputs": [
    {
     "data": {
      "text/plain": [
       "<seaborn.axisgrid.FacetGrid at 0x2d849a10b20>"
      ]
     },
     "execution_count": 54,
     "metadata": {},
     "output_type": "execute_result"
    },
    {
     "data": {
      "image/png": "[encoded data removed]",
      "text/plain": [
       "<Figure size 360x360 with 1 Axes>"
      ]
     },
     "metadata": {
      "needs_background": "light"
     },
     "output_type": "display_data"
    }
   ],
   "source": [
    "sns.catplot(data=pj, x=\"Segment Type\", y=\"Percentage\", hue=\"Segment Type\" ,kind=\"point\")"
   ]
  },
  {
   "cell_type": "code",
   "execution_count": 57,
   "metadata": {},
   "outputs": [
    {
     "data": {
      "text/plain": [
       "['Question',\n",
       " 'Segment Type',\n",
       " 'Segment Description',\n",
       " 'Answer',\n",
       " 'Count',\n",
       " 'Percentage']"
      ]
     },
     "execution_count": 57,
     "metadata": {},
     "output_type": "execute_result"
    }
   ],
   "source": [
    "list(pj.columns)"
   ]
  },
  {
   "cell_type": "raw",
   "metadata": {},
   "source": []
  }
 ],
 "metadata": {
  "kernelspec": {
   "display_name": "Python 3",
   "language": "python",
   "name": "python3"
  },
  "language_info": {
   "codemirror_mode": {
    "name": "ipython",
    "version": 3
   },
   "file_extension": ".py",
   "mimetype": "text/x-python",
   "name": "python",
   "nbconvert_exporter": "python",
   "pygments_lexer": "ipython3",
   "version": "3.8.5"
  }
 },
 "nbformat": 4,
 "nbformat_minor": 4
}
